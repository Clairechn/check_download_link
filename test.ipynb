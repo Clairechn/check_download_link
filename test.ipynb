{
 "cells": [
  {
   "cell_type": "code",
   "execution_count": 1,
   "metadata": {},
   "outputs": [],
   "source": [
    "from bs4 import BeautifulSoup\n",
    "from selenium import webdriver\n",
    "from selenium.webdriver.chrome.options import Options\n",
    "import os\n",
    "from selenium.webdriver.common.by import By\n",
    "from selenium.webdriver.support.ui import WebDriverWait\n",
    "from selenium.webdriver.support import expected_conditions as EC\n",
    "from selenium.common.exceptions import TimeoutException"
   ]
  },
  {
   "cell_type": "markdown",
   "metadata": {},
   "source": [
    "# excel_editor.py\n"
   ]
  },
  {
   "cell_type": "code",
   "execution_count": 2,
   "metadata": {},
   "outputs": [],
   "source": [
    "import openpyxl"
   ]
  },
  {
   "cell_type": "code",
   "execution_count": 5,
   "metadata": {},
   "outputs": [],
   "source": [
    "def read_excel(filepath, ws_name=None):\n",
    "    wb = openpyxl.load_workbook(filepath, data_only=True)\n",
    "    if ws_name is None:\n",
    "        ws = wb.worksheets[0]\n",
    "    else:\n",
    "        ws = wb[ws_name]\n",
    "    return ws\n",
    "\n",
    "def read_excel_only(filepath, ws_name=None):\n",
    "    wb = openpyxl.load_workbook(filepath, read_only=True, data_only=True)\n",
    "    if ws_name is None:\n",
    "        ws = wb.worksheets[0]\n",
    "    else:\n",
    "        ws = wb[ws_name]\n",
    "    return ws"
   ]
  },
  {
   "cell_type": "markdown",
   "metadata": {},
   "source": [
    "### import excel_editor.py"
   ]
  },
  {
   "cell_type": "code",
   "execution_count": 6,
   "metadata": {},
   "outputs": [],
   "source": [
    "filepath = os.path.join(os.getcwd(), 'journal_list.xlsx')\n",
    "ws_name = 'Only List_406'\n",
    "\n",
    "# read excel\n",
    "ws = read_excel_only(filepath, ws_name) "
   ]
  },
  {
   "cell_type": "code",
   "execution_count": 7,
   "metadata": {},
   "outputs": [
    {
     "ename": "KeyboardInterrupt",
     "evalue": "",
     "output_type": "error",
     "traceback": [
      "\u001b[1;31m---------------------------------------------------------------------------\u001b[0m",
      "\u001b[1;31mKeyboardInterrupt\u001b[0m                         Traceback (most recent call last)",
      "\u001b[1;32mc:\\Users\\Chenxixi0422\\專案\\check_download_link\\test.ipynb Cell 7\u001b[0m line \u001b[0;36m2\n\u001b[0;32m      <a href='vscode-notebook-cell:/c%3A/Users/Chenxixi0422/%E5%B0%88%E6%A1%88/check_download_link/test.ipynb#W6sZmlsZQ%3D%3D?line=0'>1</a>\u001b[0m \u001b[39m# get all journals' url\u001b[39;00m\n\u001b[1;32m----> <a href='vscode-notebook-cell:/c%3A/Users/Chenxixi0422/%E5%B0%88%E6%A1%88/check_download_link/test.ipynb#W6sZmlsZQ%3D%3D?line=1'>2</a>\u001b[0m journal_url_list \u001b[39m=\u001b[39m [ws\u001b[39m.\u001b[39;49mcell(row\u001b[39m=\u001b[39;49mi, column\u001b[39m=\u001b[39;49m\u001b[39m17\u001b[39;49m)\u001b[39m.\u001b[39;49mvalue \u001b[39mfor\u001b[39;49;00m i \u001b[39min\u001b[39;49;00m \u001b[39mrange\u001b[39;49m(\u001b[39m2\u001b[39;49m, ws\u001b[39m.\u001b[39;49mmax_row)]\n\u001b[0;32m      <a href='vscode-notebook-cell:/c%3A/Users/Chenxixi0422/%E5%B0%88%E6%A1%88/check_download_link/test.ipynb#W6sZmlsZQ%3D%3D?line=3'>4</a>\u001b[0m \u001b[39mprint\u001b[39m(journal_url_list[:\u001b[39m10\u001b[39m])\n",
      "\u001b[1;32mc:\\Users\\Chenxixi0422\\專案\\check_download_link\\test.ipynb Cell 7\u001b[0m line \u001b[0;36m2\n\u001b[0;32m      <a href='vscode-notebook-cell:/c%3A/Users/Chenxixi0422/%E5%B0%88%E6%A1%88/check_download_link/test.ipynb#W6sZmlsZQ%3D%3D?line=0'>1</a>\u001b[0m \u001b[39m# get all journals' url\u001b[39;00m\n\u001b[1;32m----> <a href='vscode-notebook-cell:/c%3A/Users/Chenxixi0422/%E5%B0%88%E6%A1%88/check_download_link/test.ipynb#W6sZmlsZQ%3D%3D?line=1'>2</a>\u001b[0m journal_url_list \u001b[39m=\u001b[39m [ws\u001b[39m.\u001b[39;49mcell(row\u001b[39m=\u001b[39;49mi, column\u001b[39m=\u001b[39;49m\u001b[39m17\u001b[39;49m)\u001b[39m.\u001b[39mvalue \u001b[39mfor\u001b[39;00m i \u001b[39min\u001b[39;00m \u001b[39mrange\u001b[39m(\u001b[39m2\u001b[39m, ws\u001b[39m.\u001b[39mmax_row)]\n\u001b[0;32m      <a href='vscode-notebook-cell:/c%3A/Users/Chenxixi0422/%E5%B0%88%E6%A1%88/check_download_link/test.ipynb#W6sZmlsZQ%3D%3D?line=3'>4</a>\u001b[0m \u001b[39mprint\u001b[39m(journal_url_list[:\u001b[39m10\u001b[39m])\n",
      "File \u001b[1;32mc:\\Users\\Chenxixi0422\\專案\\check_download_link\\.venv\\Lib\\site-packages\\openpyxl\\worksheet\\worksheet.py:245\u001b[0m, in \u001b[0;36mWorksheet.cell\u001b[1;34m(self, row, column, value)\u001b[0m\n\u001b[0;32m    242\u001b[0m \u001b[39mif\u001b[39;00m row \u001b[39m<\u001b[39m \u001b[39m1\u001b[39m \u001b[39mor\u001b[39;00m column \u001b[39m<\u001b[39m \u001b[39m1\u001b[39m:\n\u001b[0;32m    243\u001b[0m     \u001b[39mraise\u001b[39;00m \u001b[39mValueError\u001b[39;00m(\u001b[39m\"\u001b[39m\u001b[39mRow or column values must be at least 1\u001b[39m\u001b[39m\"\u001b[39m)\n\u001b[1;32m--> 245\u001b[0m cell \u001b[39m=\u001b[39m \u001b[39mself\u001b[39;49m\u001b[39m.\u001b[39;49m_get_cell(row, column)\n\u001b[0;32m    246\u001b[0m \u001b[39mif\u001b[39;00m value \u001b[39mis\u001b[39;00m \u001b[39mnot\u001b[39;00m \u001b[39mNone\u001b[39;00m:\n\u001b[0;32m    247\u001b[0m     cell\u001b[39m.\u001b[39mvalue \u001b[39m=\u001b[39m value\n",
      "File \u001b[1;32mc:\\Users\\Chenxixi0422\\專案\\check_download_link\\.venv\\Lib\\site-packages\\openpyxl\\worksheet\\_read_only.py:130\u001b[0m, in \u001b[0;36mReadOnlyWorksheet._get_cell\u001b[1;34m(self, row, column)\u001b[0m\n\u001b[0;32m    128\u001b[0m \u001b[39mdef\u001b[39;00m \u001b[39m_get_cell\u001b[39m(\u001b[39mself\u001b[39m, row, column):\n\u001b[0;32m    129\u001b[0m \u001b[39m    \u001b[39m\u001b[39m\"\"\"Cells are returned by a generator which can be empty\"\"\"\u001b[39;00m\n\u001b[1;32m--> 130\u001b[0m     \u001b[39mfor\u001b[39;49;00m row \u001b[39min\u001b[39;49;00m \u001b[39mself\u001b[39;49m\u001b[39m.\u001b[39;49m_cells_by_row(column, row, column, row):\n\u001b[0;32m    131\u001b[0m         \u001b[39mif\u001b[39;49;00m row:\n\u001b[0;32m    132\u001b[0m             \u001b[39mreturn\u001b[39;49;00m row[\u001b[39m0\u001b[39;49m]\n",
      "File \u001b[1;32mc:\\Users\\Chenxixi0422\\專案\\check_download_link\\.venv\\Lib\\site-packages\\openpyxl\\worksheet\\_read_only.py:81\u001b[0m, in \u001b[0;36mReadOnlyWorksheet._cells_by_row\u001b[1;34m(self, min_col, min_row, max_col, max_row, values_only)\u001b[0m\n\u001b[0;32m     77\u001b[0m src \u001b[39m=\u001b[39m \u001b[39mself\u001b[39m\u001b[39m.\u001b[39m_get_source()\n\u001b[0;32m     78\u001b[0m parser \u001b[39m=\u001b[39m WorkSheetParser(src, \u001b[39mself\u001b[39m\u001b[39m.\u001b[39m_shared_strings,\n\u001b[0;32m     79\u001b[0m                          data_only\u001b[39m=\u001b[39m\u001b[39mself\u001b[39m\u001b[39m.\u001b[39mparent\u001b[39m.\u001b[39mdata_only, epoch\u001b[39m=\u001b[39m\u001b[39mself\u001b[39m\u001b[39m.\u001b[39mparent\u001b[39m.\u001b[39mepoch,\n\u001b[0;32m     80\u001b[0m                          date_formats\u001b[39m=\u001b[39m\u001b[39mself\u001b[39m\u001b[39m.\u001b[39mparent\u001b[39m.\u001b[39m_date_formats)\n\u001b[1;32m---> 81\u001b[0m \u001b[39mfor\u001b[39;49;00m idx, row \u001b[39min\u001b[39;49;00m parser\u001b[39m.\u001b[39;49mparse():\n\u001b[0;32m     82\u001b[0m     \u001b[39mif\u001b[39;49;00m max_row \u001b[39mis\u001b[39;49;00m \u001b[39mnot\u001b[39;49;00m \u001b[39mNone\u001b[39;49;00m \u001b[39mand\u001b[39;49;00m idx \u001b[39m>\u001b[39;49m max_row:\n\u001b[0;32m     83\u001b[0m         \u001b[39mbreak\u001b[39;49;00m\n",
      "File \u001b[1;32mc:\\Users\\Chenxixi0422\\專案\\check_download_link\\.venv\\Lib\\site-packages\\openpyxl\\worksheet\\_reader.py:156\u001b[0m, in \u001b[0;36mWorkSheetParser.parse\u001b[1;34m(self)\u001b[0m\n\u001b[0;32m    137\u001b[0m properties \u001b[39m=\u001b[39m {\n\u001b[0;32m    138\u001b[0m     PRINT_TAG: (\u001b[39m'\u001b[39m\u001b[39mprint_options\u001b[39m\u001b[39m'\u001b[39m, PrintOptions),\n\u001b[0;32m    139\u001b[0m     MARGINS_TAG: (\u001b[39m'\u001b[39m\u001b[39mpage_margins\u001b[39m\u001b[39m'\u001b[39m, PageMargins),\n\u001b[1;32m   (...)\u001b[0m\n\u001b[0;32m    151\u001b[0m \n\u001b[0;32m    152\u001b[0m }\n\u001b[0;32m    154\u001b[0m it \u001b[39m=\u001b[39m iterparse(\u001b[39mself\u001b[39m\u001b[39m.\u001b[39msource) \u001b[39m# add a finaliser to close the source when this becomes possible\u001b[39;00m\n\u001b[1;32m--> 156\u001b[0m \u001b[39mfor\u001b[39;49;00m _, element \u001b[39min\u001b[39;49;00m it:\n\u001b[0;32m    157\u001b[0m     tag_name \u001b[39m=\u001b[39;49m element\u001b[39m.\u001b[39;49mtag\n\u001b[0;32m    158\u001b[0m     \u001b[39mif\u001b[39;49;00m tag_name \u001b[39min\u001b[39;49;00m dispatcher:\n",
      "File \u001b[1;32mC:\\Python311\\Lib\\xml\\etree\\ElementTree.py:1251\u001b[0m, in \u001b[0;36miterparse.<locals>.iterator\u001b[1;34m(source)\u001b[0m\n\u001b[0;32m   1249\u001b[0m \u001b[39myield from\u001b[39;00m pullparser\u001b[39m.\u001b[39mread_events()\n\u001b[0;32m   1250\u001b[0m \u001b[39m# load event buffer\u001b[39;00m\n\u001b[1;32m-> 1251\u001b[0m data \u001b[39m=\u001b[39m source\u001b[39m.\u001b[39;49mread(\u001b[39m16\u001b[39;49m \u001b[39m*\u001b[39;49m \u001b[39m1024\u001b[39;49m)\n\u001b[0;32m   1252\u001b[0m \u001b[39mif\u001b[39;00m \u001b[39mnot\u001b[39;00m data:\n\u001b[0;32m   1253\u001b[0m     \u001b[39mbreak\u001b[39;00m\n",
      "File \u001b[1;32mC:\\Python311\\Lib\\zipfile.py:955\u001b[0m, in \u001b[0;36mZipExtFile.read\u001b[1;34m(self, n)\u001b[0m\n\u001b[0;32m    953\u001b[0m \u001b[39mself\u001b[39m\u001b[39m.\u001b[39m_offset \u001b[39m=\u001b[39m \u001b[39m0\u001b[39m\n\u001b[0;32m    954\u001b[0m \u001b[39mwhile\u001b[39;00m n \u001b[39m>\u001b[39m \u001b[39m0\u001b[39m \u001b[39mand\u001b[39;00m \u001b[39mnot\u001b[39;00m \u001b[39mself\u001b[39m\u001b[39m.\u001b[39m_eof:\n\u001b[1;32m--> 955\u001b[0m     data \u001b[39m=\u001b[39m \u001b[39mself\u001b[39;49m\u001b[39m.\u001b[39;49m_read1(n)\n\u001b[0;32m    956\u001b[0m     \u001b[39mif\u001b[39;00m n \u001b[39m<\u001b[39m \u001b[39mlen\u001b[39m(data):\n\u001b[0;32m    957\u001b[0m         \u001b[39mself\u001b[39m\u001b[39m.\u001b[39m_readbuffer \u001b[39m=\u001b[39m data\n",
      "File \u001b[1;32mC:\\Python311\\Lib\\zipfile.py:1031\u001b[0m, in \u001b[0;36mZipExtFile._read1\u001b[1;34m(self, n)\u001b[0m\n\u001b[0;32m   1029\u001b[0m \u001b[39melif\u001b[39;00m \u001b[39mself\u001b[39m\u001b[39m.\u001b[39m_compress_type \u001b[39m==\u001b[39m ZIP_DEFLATED:\n\u001b[0;32m   1030\u001b[0m     n \u001b[39m=\u001b[39m \u001b[39mmax\u001b[39m(n, \u001b[39mself\u001b[39m\u001b[39m.\u001b[39mMIN_READ_SIZE)\n\u001b[1;32m-> 1031\u001b[0m     data \u001b[39m=\u001b[39m \u001b[39mself\u001b[39;49m\u001b[39m.\u001b[39;49m_decompressor\u001b[39m.\u001b[39;49mdecompress(data, n)\n\u001b[0;32m   1032\u001b[0m     \u001b[39mself\u001b[39m\u001b[39m.\u001b[39m_eof \u001b[39m=\u001b[39m (\u001b[39mself\u001b[39m\u001b[39m.\u001b[39m_decompressor\u001b[39m.\u001b[39meof \u001b[39mor\u001b[39;00m\n\u001b[0;32m   1033\u001b[0m                  \u001b[39mself\u001b[39m\u001b[39m.\u001b[39m_compress_left \u001b[39m<\u001b[39m\u001b[39m=\u001b[39m \u001b[39m0\u001b[39m \u001b[39mand\u001b[39;00m\n\u001b[0;32m   1034\u001b[0m                  \u001b[39mnot\u001b[39;00m \u001b[39mself\u001b[39m\u001b[39m.\u001b[39m_decompressor\u001b[39m.\u001b[39munconsumed_tail)\n\u001b[0;32m   1035\u001b[0m     \u001b[39mif\u001b[39;00m \u001b[39mself\u001b[39m\u001b[39m.\u001b[39m_eof:\n",
      "\u001b[1;31mKeyboardInterrupt\u001b[0m: "
     ]
    }
   ],
   "source": [
    "# get all journals' url\n",
    "journal_url_list = [ws.cell(row=i, column=17).value for i in range(2, ws.max_row)]\n",
    "\n",
    "print(journal_url_list[:10])"
   ]
  },
  {
   "cell_type": "markdown",
   "metadata": {},
   "source": [
    "# Scrapper.py"
   ]
  },
  {
   "cell_type": "code",
   "execution_count": 5,
   "metadata": {},
   "outputs": [],
   "source": [
    "import random\n",
    "import time\n",
    "from selenium.webdriver.common.action_chains import ActionChains\n",
    "from selenium.webdriver.chrome.service import Service"
   ]
  },
  {
   "cell_type": "code",
   "execution_count": 9,
   "metadata": {},
   "outputs": [
    {
     "ename": "NameError",
     "evalue": "name 'journal_url_list' is not defined",
     "output_type": "error",
     "traceback": [
      "\u001b[1;31m---------------------------------------------------------------------------\u001b[0m",
      "\u001b[1;31mNameError\u001b[0m                                 Traceback (most recent call last)",
      "\u001b[1;32mc:\\Users\\Chenxixi0422\\專案\\check_download_link\\test.ipynb Cell 10\u001b[0m line \u001b[0;36m2\n\u001b[0;32m      <a href='vscode-notebook-cell:/c%3A/Users/Chenxixi0422/%E5%B0%88%E6%A1%88/check_download_link/test.ipynb#X12sZmlsZQ%3D%3D?line=0'>1</a>\u001b[0m \u001b[39m# 設定查詢引擎網址\u001b[39;00m\n\u001b[1;32m----> <a href='vscode-notebook-cell:/c%3A/Users/Chenxixi0422/%E5%B0%88%E6%A1%88/check_download_link/test.ipynb#X12sZmlsZQ%3D%3D?line=1'>2</a>\u001b[0m journal_url \u001b[39m=\u001b[39m journal_url_list[\u001b[39m0\u001b[39m]\n\u001b[0;32m      <a href='vscode-notebook-cell:/c%3A/Users/Chenxixi0422/%E5%B0%88%E6%A1%88/check_download_link/test.ipynb#X12sZmlsZQ%3D%3D?line=3'>4</a>\u001b[0m \u001b[39m# 初始化瀏覽器\u001b[39;00m\n\u001b[0;32m      <a href='vscode-notebook-cell:/c%3A/Users/Chenxixi0422/%E5%B0%88%E6%A1%88/check_download_link/test.ipynb#X12sZmlsZQ%3D%3D?line=4'>5</a>\u001b[0m \u001b[39mprint\u001b[39m(\u001b[39m\"\u001b[39m\u001b[39m初始化瀏覽器\u001b[39m\u001b[39m\"\u001b[39m)\n",
      "\u001b[1;31mNameError\u001b[0m: name 'journal_url_list' is not defined"
     ]
    }
   ],
   "source": [
    "# 設定查詢引擎網址\n",
    "journal_url = journal_url_list[0]\n",
    "\n",
    "# 初始化瀏覽器\n",
    "print(\"初始化瀏覽器\")\n",
    "chrome_driver_path = os.path.join(os.getcwd(), 'chromedriver.exe')\n",
    "service = Service(executable_path=chrome_driver_path)\n",
    "driver = webdriver.Chrome(service=service) # 開啟Chrome # 開啟Chrome"
   ]
  },
  {
   "cell_type": "markdown",
   "metadata": {},
   "source": [
    "Testing"
   ]
  },
  {
   "cell_type": "code",
   "execution_count": 399,
   "metadata": {},
   "outputs": [
    {
     "data": {
      "text/plain": [
       "<selenium.webdriver.remote.webelement.WebElement (session=\"5b5fa51b33710b51dfd998a5e6e5c079\", element=\"3631422C0D4FE19F7700E9B78FF0CAF2_element_1023\")>"
      ]
     },
     "execution_count": 399,
     "metadata": {},
     "output_type": "execute_result"
    }
   ],
   "source": [
    "driver.get(journal_url)\n",
    "WebDriverWait(driver, 10).until(EC.presence_of_element_located((By.XPATH, '//*[@id=\"leftYearTree\"]')))"
   ]
  },
  {
   "cell_type": "code",
   "execution_count": 419,
   "metadata": {},
   "outputs": [
    {
     "name": "stdout",
     "output_type": "stream",
     "text": [
      "Issue num:  2007\n",
      "Hydrocarbon migration characteristics of the Lower Cretaceous in the Erlian Basin\n",
      "趙文智;方杰;\n",
      "1-7\n",
      "Links num:  15\n",
      "Selected link:  Variations and net transport of dissolved inorganic nutrients in the South Passage of the Changjiang(Yangtze River) Estuary\n",
      "劉啟貞;李九發;應銘;李道季;左書華;謝君;\n",
      "84-90\n"
     ]
    }
   ],
   "source": [
    "# Randomly select an issue\n",
    "all_issues = driver.find_elements(By.XPATH, '//*[@id=\"yearissue+0\"]/dl[contains(@id, \"_Year_Issue\")]')\n",
    "select_issue = all_issues[random.randint(1, len(all_issues)-1)]\n",
    "print(\"Issue num: \", select_issue.text)\n",
    "select_issue.click()\n",
    "\n",
    "# Randomly select a volumn of the selected issue\n",
    "all_volumns = select_issue.find_elements(By.XPATH, './dd/a')\n",
    "select_volumn = all_volumns[random.randint(1, len(all_volumns)-1)]\n",
    "select_volumn.click()\n",
    "time.sleep(10)\n",
    "test_element = WebDriverWait(driver, 10).until(EC.element_to_be_clickable((By.XPATH, '//*[@id=\"CataLogContent\"]/dd[1]')))\n",
    "print(test_element.text)\n",
    "\n",
    "# Randomly click a link in the selected issue\n",
    "all_links = driver.find_elements(By.XPATH, '//*[@id=\"CataLogContent\"]/dd')\n",
    "print(\"Links num: \", len(all_links))\n",
    "select_link = all_links[random.randint(1, len(all_links)-1)]\n",
    "print(\"Selected link: \", select_link.text)\n",
    "\n",
    "# Click the download button\n",
    "download_btn = WebDriverWait(select_link, 10).until(EC.presence_of_element_located((By.XPATH, './ul/li[1]/a[1]')))\n",
    "actions = ActionChains(driver)\n",
    "actions.move_to_element(download_btn)\n",
    "actions.pause(3)\n",
    "actions.click().perform()"
   ]
  },
  {
   "cell_type": "code",
   "execution_count": null,
   "metadata": {},
   "outputs": [],
   "source": [
    "# Check if the link is invalid\n",
    "handles_list = driver.window_handles\n",
    "try:\n",
    "    driver.switch_to.window(handles_list[1])\n",
    "except:\n",
    "    \n",
    "else:"
   ]
  },
  {
   "cell_type": "markdown",
   "metadata": {},
   "source": [
    "function"
   ]
  },
  {
   "cell_type": "code",
   "execution_count": 18,
   "metadata": {},
   "outputs": [],
   "source": [
    "def load_Journal_Page(journal_url):\n",
    "    try:\n",
    "        driver.get(journal_url)\n",
    "        WebDriverWait(driver, 10).until(EC.presence_of_element_located((By.XPATH, '//*[@id=\"leftYearTree\"]')))\n",
    "\n",
    "    except TimeoutException:\n",
    "        driver.refresh()\n",
    "        driver.get(url)\n",
    "        WebDriverWait(driver, 10).until(EC.presence_of_element_located((By.XPATH, '//*[@id=\"leftYearTree\"]')))"
   ]
  },
  {
   "cell_type": "code",
   "execution_count": null,
   "metadata": {},
   "outputs": [],
   "source": [
    "def load_newest_issue():\n",
    "    years_issue = driver.find_element(By.CLASS_NAME, \"yearissuepage\")\n",
    "    newest_issue = years_issue.find_element(By.XPATH, './/dl[0]')"
   ]
  }
 ],
 "metadata": {
  "kernelspec": {
   "display_name": ".venv",
   "language": "python",
   "name": "python3"
  },
  "language_info": {
   "codemirror_mode": {
    "name": "ipython",
    "version": 3
   },
   "file_extension": ".py",
   "mimetype": "text/x-python",
   "name": "python",
   "nbconvert_exporter": "python",
   "pygments_lexer": "ipython3",
   "version": "3.11.4"
  }
 },
 "nbformat": 4,
 "nbformat_minor": 2
}
