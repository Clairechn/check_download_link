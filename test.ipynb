{
 "cells": [
  {
   "cell_type": "code",
   "execution_count": 23,
   "metadata": {},
   "outputs": [],
   "source": [
    "from bs4 import BeautifulSoup\n",
    "from selenium import webdriver\n",
    "from selenium.webdriver.chrome.options import Options\n",
    "import os\n",
    "from selenium.webdriver.common.by import By\n",
    "from selenium.webdriver.support.ui import WebDriverWait\n",
    "from selenium.webdriver.support import expected_conditions as EC\n",
    "from selenium.common.exceptions import TimeoutException"
   ]
  },
  {
   "cell_type": "markdown",
   "metadata": {},
   "source": [
    "# excel_editor.py\n"
   ]
  },
  {
   "cell_type": "code",
   "execution_count": 2,
   "metadata": {},
   "outputs": [],
   "source": [
    "import openpyxl"
   ]
  },
  {
   "cell_type": "code",
   "execution_count": 3,
   "metadata": {},
   "outputs": [],
   "source": [
    "def read_excel(filepath, ws_name=None):\n",
    "    wb = openpyxl.load_workbook(filepath, data_only=True)\n",
    "    if ws_name is None:\n",
    "        ws = wb.worksheets[0]\n",
    "    else:\n",
    "        ws = wb[ws_name]\n",
    "    return ws"
   ]
  },
  {
   "cell_type": "markdown",
   "metadata": {},
   "source": [
    "### import excel_editor.py"
   ]
  },
  {
   "cell_type": "code",
   "execution_count": 4,
   "metadata": {},
   "outputs": [],
   "source": [
    "filepath = os.path.join(os.getcwd(), 'journal_list.xlsx')\n",
    "ws_name = 'Only List_406'\n",
    "\n",
    "# read excel\n",
    "ws = read_excel(filepath, ws_name) "
   ]
  },
  {
   "cell_type": "code",
   "execution_count": 5,
   "metadata": {},
   "outputs": [
    {
     "name": "stdout",
     "output_type": "stream",
     "text": [
      "['https://tra.oversea.cnki.net/knavi/JournalDetail?pcode=CJFD&pykm=DQHB', 'https://tra.oversea.cnki.net/knavi/JournalDetail?pcode=CJFD&pykm=ACMS', 'https://tra.oversea.cnki.net/knavi/JournalDetail?pcode=CJFD&pykm=YISY', 'https://tra.oversea.cnki.net/knavi/JournalDetail?pcode=CJFD&pykm=AMSI', 'https://tra.oversea.cnki.net/knavi/JournalDetail?pcode=CJFD&pykm=AHMM', 'https://tra.oversea.cnki.net/knavi/JournalDetail?pcode=CJFD&pykm=DQJZ', 'https://tra.oversea.cnki.net/knavi/JournalDetail?pcode=CJFD&pykm=AMEM', 'https://tra.oversea.cnki.net/knavi/JournalDetail?pcode=CJFD&pykm=AGDX', 'https://tra.oversea.cnki.net/knavi/JournalDetail?pcode=CJFD&pykm=AHXZ', 'https://tra.oversea.cnki.net/knavi/JournalDetail?pcode=CJFD&pykm=AHWZ']\n"
     ]
    }
   ],
   "source": [
    "# get all journals' url\n",
    "journal_url_list = [ws.cell(row=i, column=17).value for i in range(2, ws.max_row)]\n",
    "\n",
    "print(journal_url_list[:10])"
   ]
  },
  {
   "cell_type": "markdown",
   "metadata": {},
   "source": [
    "# Scrapper.py"
   ]
  },
  {
   "cell_type": "code",
   "execution_count": 338,
   "metadata": {},
   "outputs": [],
   "source": [
    "import random\n",
    "import time\n",
    "from selenium.webdriver.common.action_chains import ActionChains"
   ]
  },
  {
   "cell_type": "code",
   "execution_count": 398,
   "metadata": {},
   "outputs": [
    {
     "name": "stdout",
     "output_type": "stream",
     "text": [
      "初始化瀏覽器\n"
     ]
    }
   ],
   "source": [
    "# 設定查詢引擎網址\n",
    "journal_url = journal_url_list[0]\n",
    "\n",
    "# 初始化瀏覽器\n",
    "print(\"初始化瀏覽器\")\n",
    "driver = webdriver.Chrome() # 開啟Chrome"
   ]
  },
  {
   "cell_type": "markdown",
   "metadata": {},
   "source": [
    "Testing"
   ]
  },
  {
   "cell_type": "code",
   "execution_count": 399,
   "metadata": {},
   "outputs": [
    {
     "data": {
      "text/plain": [
       "<selenium.webdriver.remote.webelement.WebElement (session=\"5b5fa51b33710b51dfd998a5e6e5c079\", element=\"3631422C0D4FE19F7700E9B78FF0CAF2_element_1023\")>"
      ]
     },
     "execution_count": 399,
     "metadata": {},
     "output_type": "execute_result"
    }
   ],
   "source": [
    "driver.get(journal_url)\n",
    "WebDriverWait(driver, 10).until(EC.presence_of_element_located((By.XPATH, '//*[@id=\"leftYearTree\"]')))"
   ]
  },
  {
   "cell_type": "code",
   "execution_count": 419,
   "metadata": {},
   "outputs": [
    {
     "name": "stdout",
     "output_type": "stream",
     "text": [
      "Issue num:  2007\n",
      "Hydrocarbon migration characteristics of the Lower Cretaceous in the Erlian Basin\n",
      "趙文智;方杰;\n",
      "1-7\n",
      "Links num:  15\n",
      "Selected link:  Variations and net transport of dissolved inorganic nutrients in the South Passage of the Changjiang(Yangtze River) Estuary\n",
      "劉啟貞;李九發;應銘;李道季;左書華;謝君;\n",
      "84-90\n"
     ]
    }
   ],
   "source": [
    "# Randomly select an issue\n",
    "all_issues = driver.find_elements(By.XPATH, '//*[@id=\"yearissue+0\"]/dl[contains(@id, \"_Year_Issue\")]')\n",
    "select_issue = all_issues[random.randint(1, len(all_issues)-1)]\n",
    "print(\"Issue num: \", select_issue.text)\n",
    "select_issue.click()\n",
    "\n",
    "# Randomly select a volumn of the selected issue\n",
    "all_volumns = select_issue.find_elements(By.XPATH, './dd/a')\n",
    "select_volumn = all_volumns[random.randint(1, len(all_volumns)-1)]\n",
    "select_volumn.click()\n",
    "time.sleep(10)\n",
    "test_element = WebDriverWait(driver, 10).until(EC.element_to_be_clickable((By.XPATH, '//*[@id=\"CataLogContent\"]/dd[1]')))\n",
    "print(test_element.text)\n",
    "\n",
    "# Randomly click a link in the selected issue\n",
    "all_links = driver.find_elements(By.XPATH, '//*[@id=\"CataLogContent\"]/dd')\n",
    "print(\"Links num: \", len(all_links))\n",
    "select_link = all_links[random.randint(1, len(all_links)-1)]\n",
    "print(\"Selected link: \", select_link.text)\n",
    "\n",
    "# Click the download button\n",
    "download_btn = WebDriverWait(select_link, 10).until(EC.presence_of_element_located((By.XPATH, './ul/li[1]/a[1]')))\n",
    "actions = ActionChains(driver)\n",
    "actions.move_to_element(download_btn)\n",
    "actions.pause(3)\n",
    "actions.click().perform()\n",
    "\n",
    "# Check if the \n",
    "def check_"
   ]
  },
  {
   "cell_type": "code",
   "execution_count": null,
   "metadata": {},
   "outputs": [],
   "source": []
  },
  {
   "cell_type": "markdown",
   "metadata": {},
   "source": [
    "function"
   ]
  },
  {
   "cell_type": "code",
   "execution_count": 18,
   "metadata": {},
   "outputs": [],
   "source": [
    "def load_Journal_Page(journal_url):\n",
    "    try:\n",
    "        driver.get(journal_url)\n",
    "        WebDriverWait(driver, 10).until(EC.presence_of_element_located((By.XPATH, '//*[@id=\"leftYearTree\"]')))\n",
    "\n",
    "    except TimeoutException:\n",
    "        driver.refresh()\n",
    "        driver.get(url)\n",
    "        WebDriverWait(driver, 10).until(EC.presence_of_element_located((By.XPATH, '//*[@id=\"leftYearTree\"]')))"
   ]
  },
  {
   "cell_type": "code",
   "execution_count": null,
   "metadata": {},
   "outputs": [],
   "source": [
    "def load_newest_issue():\n",
    "    years_issue = driver.find_element(By.CLASS_NAME, \"yearissuepage\")\n",
    "    newest_issue = years_issue.find_element(By.XPATH, './/dl[0]')"
   ]
  }
 ],
 "metadata": {
  "kernelspec": {
   "display_name": ".venv",
   "language": "python",
   "name": "python3"
  },
  "language_info": {
   "codemirror_mode": {
    "name": "ipython",
    "version": 3
   },
   "file_extension": ".py",
   "mimetype": "text/x-python",
   "name": "python",
   "nbconvert_exporter": "python",
   "pygments_lexer": "ipython3",
   "version": "3.10.2"
  }
 },
 "nbformat": 4,
 "nbformat_minor": 2
}
